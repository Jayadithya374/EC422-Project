{
 "cells": [
  {
   "cell_type": "markdown",
   "metadata": {},
   "source": [
    "$$\\textbf{EC-422 Artificial Intelliegnce - Project}$$\n",
    "\n",
    "Objective:\n",
    "\n",
    "Using the dataset of training and testing molecules, predict the inhibitory nature of the molecule against STAT3."
   ]
  },
  {
   "cell_type": "markdown",
   "metadata": {},
   "source": [
    "$$\\text{Import necessary libraries}$$\n",
    "\n",
    "We use various libraries such as matplotlib, seaborn for plotting, numpy for numerical calculations, pandas for reading and describing the dataset, sklearn for normalization, standardization and implementing various models such as logisitic regression and Naive-Bayes classification and tensorflow for training various types of neural networks."
   ]
  },
  {
   "cell_type": "code",
   "execution_count": 1,
   "metadata": {
    "ExecuteTime": {
     "end_time": "2023-11-02T10:52:51.857669Z",
     "start_time": "2023-11-02T10:52:45.953183Z"
    }
   },
   "outputs": [],
   "source": [
    "try:\n",
    "    import matplotlib.pyplot as plt\n",
    "    import numpy as np\n",
    "    import pandas as pd\n",
    "    import seaborn as sns\n",
    "    from sklearn import metrics\n",
    "    from sklearn.preprocessing import StandardScaler\n",
    "    from sklearn.preprocessing import MinMaxScaler\n",
    "    from sklearn.model_selection import train_test_split\n",
    "    from sklearn.linear_model import LogisticRegression\n",
    "    from sklearn.naive_bayes import GaussianNB\n",
    "    from tensorflow.keras.models import Sequential\n",
    "    from tensorflow.keras.layers import Dense, Dropout\n",
    "    from tensorflow.keras.callbacks import EarlyStopping\n",
    "\n",
    "except ImportError as e:\n",
    "    print(\"Error occurred \", e)\n",
    "    print(\"Please install the required libraries\")"
   ]
  },
  {
   "cell_type": "markdown",
   "metadata": {},
   "source": [
    "$$\\textbf{Learning about the dataset}$$"
   ]
  },
  {
   "cell_type": "code",
   "execution_count": 2,
   "metadata": {},
   "outputs": [],
   "source": [
    "training_data = pd.read_csv(\"train.csv\")\n",
    "\n",
    "testing_data = pd.read_csv(\"test.csv\")"
   ]
  },
  {
   "cell_type": "code",
   "execution_count": 3,
   "metadata": {},
   "outputs": [
    {
     "name": "stdout",
     "output_type": "stream",
     "text": [
      "Shape of training_data is:  (2589, 210)\n",
      "Shape of testing_data is:  (647, 210)\n"
     ]
    }
   ],
   "source": [
    "print(\"Shape of training_data is: \", training_data.shape)\n",
    "\n",
    "print(\"Shape of testing_data is: \", testing_data.shape)"
   ]
  },
  {
   "cell_type": "code",
   "execution_count": 4,
   "metadata": {},
   "outputs": [
    {
     "name": "stdout",
     "output_type": "stream",
     "text": [
      "Columns in training_data are:  Index(['Inhibitor', 'SMILES', 'MaxEStateIndex', 'MinEStateIndex',\n",
      "       'MaxAbsEStateIndex', 'MinAbsEStateIndex', 'qed', 'MolWt',\n",
      "       'HeavyAtomMolWt', 'ExactMolWt',\n",
      "       ...\n",
      "       'fr_sulfide', 'fr_sulfonamd', 'fr_sulfone', 'fr_term_acetylene',\n",
      "       'fr_tetrazole', 'fr_thiazole', 'fr_thiocyan', 'fr_thiophene',\n",
      "       'fr_unbrch_alkane', 'fr_urea'],\n",
      "      dtype='object', length=210)\n",
      "Columns in testing_data are:  Index(['Inhibitor', 'SMILES', 'MaxEStateIndex', 'MinEStateIndex',\n",
      "       'MaxAbsEStateIndex', 'MinAbsEStateIndex', 'qed', 'MolWt',\n",
      "       'HeavyAtomMolWt', 'ExactMolWt',\n",
      "       ...\n",
      "       'fr_sulfide', 'fr_sulfonamd', 'fr_sulfone', 'fr_term_acetylene',\n",
      "       'fr_tetrazole', 'fr_thiazole', 'fr_thiocyan', 'fr_thiophene',\n",
      "       'fr_unbrch_alkane', 'fr_urea'],\n",
      "      dtype='object', length=210)\n"
     ]
    }
   ],
   "source": [
    "print(\"Columns in training_data are: \", training_data.columns)\n",
    "\n",
    "print(\"Columns in testing_data are: \", testing_data.columns)"
   ]
  },
  {
   "cell_type": "code",
   "execution_count": 5,
   "metadata": {},
   "outputs": [
    {
     "name": "stdout",
     "output_type": "stream",
     "text": [
      "The first 5 rows of training_data are:\n",
      "    Inhibitor                                        SMILES  MaxEStateIndex  \\\n",
      "0          0       O=C(Nc1ccc(S(=O)(=O)N2CCCC2)cc1)c1cccs1       12.394955   \n",
      "1          1   CC(=O)Nc1ccccc1OCC(=O)c1cc(C)n(Cc2cccs2)c1C       12.717250   \n",
      "2          1           CC(C)C(=O)Nc1ccc(-c2nc3cccnc3o2)cc1       11.634335   \n",
      "3          1             Cc1ccc(-c2cc(C(=O)N3CCCC3)no2)cc1       12.149138   \n",
      "4          0  C(=C\\c1nccc2c1[nH]c1ccccc12)\\c1ccc2c(c1)OCO2        5.423368   \n",
      "\n",
      "   MinEStateIndex  MaxAbsEStateIndex  MinAbsEStateIndex       qed    MolWt  \\\n",
      "0       -3.404453          12.394955           0.189676  0.933439  336.438   \n",
      "1       -0.185649          12.717250           0.083439  0.614894  382.485   \n",
      "2       -0.048342          11.634335           0.005730  0.797617  281.315   \n",
      "3       -0.028137          12.149138           0.028137  0.829611  256.305   \n",
      "4        0.290108           5.423368           0.290108  0.587278  314.344   \n",
      "\n",
      "   HeavyAtomMolWt  ExactMolWt  ...  fr_sulfide  fr_sulfonamd  fr_sulfone  \\\n",
      "0         320.310  336.060234  ...           0             1           0   \n",
      "1         360.309  382.135114  ...           0             0           0   \n",
      "2         266.195  281.116427  ...           0             0           0   \n",
      "3         240.177  256.121178  ...           0             0           0   \n",
      "4         300.232  314.105528  ...           0             0           0   \n",
      "\n",
      "   fr_term_acetylene  fr_tetrazole  fr_thiazole  fr_thiocyan  fr_thiophene  \\\n",
      "0                  0             0            0            0             1   \n",
      "1                  0             0            0            0             1   \n",
      "2                  0             0            0            0             0   \n",
      "3                  0             0            0            0             0   \n",
      "4                  0             0            0            0             0   \n",
      "\n",
      "   fr_unbrch_alkane  fr_urea  \n",
      "0                 0        0  \n",
      "1                 0        0  \n",
      "2                 0        0  \n",
      "3                 0        0  \n",
      "4                 0        0  \n",
      "\n",
      "[5 rows x 210 columns]\n"
     ]
    }
   ],
   "source": [
    "print(\"The first 5 rows of training_data are:\\n\", training_data.head())"
   ]
  },
  {
   "cell_type": "code",
   "execution_count": 6,
   "metadata": {},
   "outputs": [
    {
     "name": "stdout",
     "output_type": "stream",
     "text": [
      "First 5 rows of testing data are:\n",
      "    Inhibitor                                             SMILES  \\\n",
      "0          0  CC(C)c1cccc(C(C)C)c1NC(=O)c1ccc(OCC(=O)NCc2ccc...   \n",
      "1          0             O=C(CSc1ncnc2ccccc12)Nc1ccc2c(c1)OCCO2   \n",
      "2          0         CC1CCN(C(=O)Cn2cc(C(=O)C3CC3)c3ccccc32)CC1   \n",
      "3          0            Cn1c(CSCc2ccc(F)cc2)nnc1SCC(=O)Nc1nccs1   \n",
      "4          1                      COc1cccc(COc2cc3ccccc3nc2C)c1   \n",
      "\n",
      "   MaxEStateIndex  MinEStateIndex  MaxAbsEStateIndex  MinAbsEStateIndex  \\\n",
      "0       12.944986       -0.201685          12.944986           0.085428   \n",
      "1       12.242526       -0.107064          12.242526           0.107064   \n",
      "2       12.663361        0.160254          12.663361           0.160254   \n",
      "3       12.902311       -0.229061          12.902311           0.124829   \n",
      "4        5.912382        0.498076           5.912382           0.498076   \n",
      "\n",
      "        qed    MolWt  HeavyAtomMolWt  ExactMolWt  ...  fr_sulfide  \\\n",
      "0  0.432972  444.575         412.319  444.241293  ...           0   \n",
      "1  0.573778  353.403         338.283  353.083412  ...           1   \n",
      "2  0.807984  324.424         300.232  324.183778  ...           0   \n",
      "3  0.573566  409.537         393.409  409.050101  ...           2   \n",
      "4  0.719233  279.339         262.203  279.125929  ...           0   \n",
      "\n",
      "   fr_sulfonamd  fr_sulfone  fr_term_acetylene  fr_tetrazole  fr_thiazole  \\\n",
      "0             0           0                  0             0            0   \n",
      "1             0           0                  0             0            0   \n",
      "2             0           0                  0             0            0   \n",
      "3             0           0                  0             0            1   \n",
      "4             0           0                  0             0            0   \n",
      "\n",
      "   fr_thiocyan  fr_thiophene  fr_unbrch_alkane  fr_urea  \n",
      "0            0             0                 0        0  \n",
      "1            0             0                 0        0  \n",
      "2            0             0                 0        0  \n",
      "3            0             0                 0        0  \n",
      "4            0             0                 0        0  \n",
      "\n",
      "[5 rows x 210 columns]\n"
     ]
    }
   ],
   "source": [
    "print(\"First 5 rows of testing data are:\\n\", testing_data.head())"
   ]
  },
  {
   "cell_type": "code",
   "execution_count": 7,
   "metadata": {},
   "outputs": [
    {
     "data": {
      "text/html": [
       "<div>\n",
       "<style scoped>\n",
       "    .dataframe tbody tr th:only-of-type {\n",
       "        vertical-align: middle;\n",
       "    }\n",
       "\n",
       "    .dataframe tbody tr th {\n",
       "        vertical-align: top;\n",
       "    }\n",
       "\n",
       "    .dataframe thead th {\n",
       "        text-align: right;\n",
       "    }\n",
       "</style>\n",
       "<table border=\"1\" class=\"dataframe\">\n",
       "  <thead>\n",
       "    <tr style=\"text-align: right;\">\n",
       "      <th></th>\n",
       "      <th>Inhibitor</th>\n",
       "      <th>MaxEStateIndex</th>\n",
       "      <th>MinEStateIndex</th>\n",
       "      <th>MaxAbsEStateIndex</th>\n",
       "      <th>MinAbsEStateIndex</th>\n",
       "      <th>qed</th>\n",
       "      <th>MolWt</th>\n",
       "      <th>HeavyAtomMolWt</th>\n",
       "      <th>ExactMolWt</th>\n",
       "      <th>NumValenceElectrons</th>\n",
       "      <th>...</th>\n",
       "      <th>fr_sulfide</th>\n",
       "      <th>fr_sulfonamd</th>\n",
       "      <th>fr_sulfone</th>\n",
       "      <th>fr_term_acetylene</th>\n",
       "      <th>fr_tetrazole</th>\n",
       "      <th>fr_thiazole</th>\n",
       "      <th>fr_thiocyan</th>\n",
       "      <th>fr_thiophene</th>\n",
       "      <th>fr_unbrch_alkane</th>\n",
       "      <th>fr_urea</th>\n",
       "    </tr>\n",
       "  </thead>\n",
       "  <tbody>\n",
       "    <tr>\n",
       "      <th>count</th>\n",
       "      <td>2589.000000</td>\n",
       "      <td>2589.000000</td>\n",
       "      <td>2589.000000</td>\n",
       "      <td>2589.000000</td>\n",
       "      <td>2589.000000</td>\n",
       "      <td>2589.000000</td>\n",
       "      <td>2589.000000</td>\n",
       "      <td>2589.000000</td>\n",
       "      <td>2589.000000</td>\n",
       "      <td>2589.000000</td>\n",
       "      <td>...</td>\n",
       "      <td>2589.000000</td>\n",
       "      <td>2589.000000</td>\n",
       "      <td>2589.000000</td>\n",
       "      <td>2589.000000</td>\n",
       "      <td>2589.000000</td>\n",
       "      <td>2589.000000</td>\n",
       "      <td>2589.0</td>\n",
       "      <td>2589.000000</td>\n",
       "      <td>2589.000000</td>\n",
       "      <td>2589.000000</td>\n",
       "    </tr>\n",
       "    <tr>\n",
       "      <th>mean</th>\n",
       "      <td>0.483584</td>\n",
       "      <td>11.390717</td>\n",
       "      <td>-0.806500</td>\n",
       "      <td>11.390717</td>\n",
       "      <td>0.191563</td>\n",
       "      <td>0.662188</td>\n",
       "      <td>340.214040</td>\n",
       "      <td>322.429011</td>\n",
       "      <td>339.817284</td>\n",
       "      <td>123.657783</td>\n",
       "      <td>...</td>\n",
       "      <td>0.137505</td>\n",
       "      <td>0.108536</td>\n",
       "      <td>0.014677</td>\n",
       "      <td>0.001545</td>\n",
       "      <td>0.016995</td>\n",
       "      <td>0.095404</td>\n",
       "      <td>0.0</td>\n",
       "      <td>0.097335</td>\n",
       "      <td>0.058324</td>\n",
       "      <td>0.036694</td>\n",
       "    </tr>\n",
       "    <tr>\n",
       "      <th>std</th>\n",
       "      <td>0.499827</td>\n",
       "      <td>2.496255</td>\n",
       "      <td>1.435521</td>\n",
       "      <td>2.496255</td>\n",
       "      <td>0.205662</td>\n",
       "      <td>0.161564</td>\n",
       "      <td>72.317206</td>\n",
       "      <td>68.881983</td>\n",
       "      <td>72.210855</td>\n",
       "      <td>26.607549</td>\n",
       "      <td>...</td>\n",
       "      <td>0.357654</td>\n",
       "      <td>0.328044</td>\n",
       "      <td>0.126543</td>\n",
       "      <td>0.039284</td>\n",
       "      <td>0.135123</td>\n",
       "      <td>0.297747</td>\n",
       "      <td>0.0</td>\n",
       "      <td>0.307977</td>\n",
       "      <td>0.312165</td>\n",
       "      <td>0.192111</td>\n",
       "    </tr>\n",
       "    <tr>\n",
       "      <th>min</th>\n",
       "      <td>0.000000</td>\n",
       "      <td>2.305620</td>\n",
       "      <td>-7.414247</td>\n",
       "      <td>2.305620</td>\n",
       "      <td>0.000105</td>\n",
       "      <td>0.154773</td>\n",
       "      <td>139.154000</td>\n",
       "      <td>130.082000</td>\n",
       "      <td>139.063329</td>\n",
       "      <td>54.000000</td>\n",
       "      <td>...</td>\n",
       "      <td>0.000000</td>\n",
       "      <td>0.000000</td>\n",
       "      <td>0.000000</td>\n",
       "      <td>0.000000</td>\n",
       "      <td>0.000000</td>\n",
       "      <td>0.000000</td>\n",
       "      <td>0.0</td>\n",
       "      <td>0.000000</td>\n",
       "      <td>0.000000</td>\n",
       "      <td>0.000000</td>\n",
       "    </tr>\n",
       "    <tr>\n",
       "      <th>25%</th>\n",
       "      <td>0.000000</td>\n",
       "      <td>11.630052</td>\n",
       "      <td>-0.782637</td>\n",
       "      <td>11.630052</td>\n",
       "      <td>0.051785</td>\n",
       "      <td>0.545719</td>\n",
       "      <td>282.339000</td>\n",
       "      <td>268.187000</td>\n",
       "      <td>282.111676</td>\n",
       "      <td>102.000000</td>\n",
       "      <td>...</td>\n",
       "      <td>0.000000</td>\n",
       "      <td>0.000000</td>\n",
       "      <td>0.000000</td>\n",
       "      <td>0.000000</td>\n",
       "      <td>0.000000</td>\n",
       "      <td>0.000000</td>\n",
       "      <td>0.0</td>\n",
       "      <td>0.000000</td>\n",
       "      <td>0.000000</td>\n",
       "      <td>0.000000</td>\n",
       "    </tr>\n",
       "    <tr>\n",
       "      <th>50%</th>\n",
       "      <td>0.000000</td>\n",
       "      <td>12.239986</td>\n",
       "      <td>-0.345503</td>\n",
       "      <td>12.239986</td>\n",
       "      <td>0.126812</td>\n",
       "      <td>0.680020</td>\n",
       "      <td>330.343000</td>\n",
       "      <td>313.659000</td>\n",
       "      <td>330.013284</td>\n",
       "      <td>120.000000</td>\n",
       "      <td>...</td>\n",
       "      <td>0.000000</td>\n",
       "      <td>0.000000</td>\n",
       "      <td>0.000000</td>\n",
       "      <td>0.000000</td>\n",
       "      <td>0.000000</td>\n",
       "      <td>0.000000</td>\n",
       "      <td>0.0</td>\n",
       "      <td>0.000000</td>\n",
       "      <td>0.000000</td>\n",
       "      <td>0.000000</td>\n",
       "    </tr>\n",
       "    <tr>\n",
       "      <th>75%</th>\n",
       "      <td>1.000000</td>\n",
       "      <td>12.719923</td>\n",
       "      <td>-0.071080</td>\n",
       "      <td>12.719923</td>\n",
       "      <td>0.240900</td>\n",
       "      <td>0.787986</td>\n",
       "      <td>393.470000</td>\n",
       "      <td>372.342000</td>\n",
       "      <td>393.088019</td>\n",
       "      <td>142.000000</td>\n",
       "      <td>...</td>\n",
       "      <td>0.000000</td>\n",
       "      <td>0.000000</td>\n",
       "      <td>0.000000</td>\n",
       "      <td>0.000000</td>\n",
       "      <td>0.000000</td>\n",
       "      <td>0.000000</td>\n",
       "      <td>0.0</td>\n",
       "      <td>0.000000</td>\n",
       "      <td>0.000000</td>\n",
       "      <td>0.000000</td>\n",
       "    </tr>\n",
       "    <tr>\n",
       "      <th>max</th>\n",
       "      <td>1.000000</td>\n",
       "      <td>15.309191</td>\n",
       "      <td>1.066901</td>\n",
       "      <td>15.309191</td>\n",
       "      <td>1.066901</td>\n",
       "      <td>0.947906</td>\n",
       "      <td>596.171000</td>\n",
       "      <td>561.899000</td>\n",
       "      <td>595.157755</td>\n",
       "      <td>220.000000</td>\n",
       "      <td>...</td>\n",
       "      <td>2.000000</td>\n",
       "      <td>2.000000</td>\n",
       "      <td>2.000000</td>\n",
       "      <td>1.000000</td>\n",
       "      <td>2.000000</td>\n",
       "      <td>2.000000</td>\n",
       "      <td>0.0</td>\n",
       "      <td>3.000000</td>\n",
       "      <td>5.000000</td>\n",
       "      <td>2.000000</td>\n",
       "    </tr>\n",
       "  </tbody>\n",
       "</table>\n",
       "<p>8 rows × 209 columns</p>\n",
       "</div>"
      ],
      "text/plain": [
       "         Inhibitor  MaxEStateIndex  MinEStateIndex  MaxAbsEStateIndex  \\\n",
       "count  2589.000000     2589.000000     2589.000000        2589.000000   \n",
       "mean      0.483584       11.390717       -0.806500          11.390717   \n",
       "std       0.499827        2.496255        1.435521           2.496255   \n",
       "min       0.000000        2.305620       -7.414247           2.305620   \n",
       "25%       0.000000       11.630052       -0.782637          11.630052   \n",
       "50%       0.000000       12.239986       -0.345503          12.239986   \n",
       "75%       1.000000       12.719923       -0.071080          12.719923   \n",
       "max       1.000000       15.309191        1.066901          15.309191   \n",
       "\n",
       "       MinAbsEStateIndex          qed        MolWt  HeavyAtomMolWt  \\\n",
       "count        2589.000000  2589.000000  2589.000000     2589.000000   \n",
       "mean            0.191563     0.662188   340.214040      322.429011   \n",
       "std             0.205662     0.161564    72.317206       68.881983   \n",
       "min             0.000105     0.154773   139.154000      130.082000   \n",
       "25%             0.051785     0.545719   282.339000      268.187000   \n",
       "50%             0.126812     0.680020   330.343000      313.659000   \n",
       "75%             0.240900     0.787986   393.470000      372.342000   \n",
       "max             1.066901     0.947906   596.171000      561.899000   \n",
       "\n",
       "        ExactMolWt  NumValenceElectrons  ...   fr_sulfide  fr_sulfonamd  \\\n",
       "count  2589.000000          2589.000000  ...  2589.000000   2589.000000   \n",
       "mean    339.817284           123.657783  ...     0.137505      0.108536   \n",
       "std      72.210855            26.607549  ...     0.357654      0.328044   \n",
       "min     139.063329            54.000000  ...     0.000000      0.000000   \n",
       "25%     282.111676           102.000000  ...     0.000000      0.000000   \n",
       "50%     330.013284           120.000000  ...     0.000000      0.000000   \n",
       "75%     393.088019           142.000000  ...     0.000000      0.000000   \n",
       "max     595.157755           220.000000  ...     2.000000      2.000000   \n",
       "\n",
       "        fr_sulfone  fr_term_acetylene  fr_tetrazole  fr_thiazole  fr_thiocyan  \\\n",
       "count  2589.000000        2589.000000   2589.000000  2589.000000       2589.0   \n",
       "mean      0.014677           0.001545      0.016995     0.095404          0.0   \n",
       "std       0.126543           0.039284      0.135123     0.297747          0.0   \n",
       "min       0.000000           0.000000      0.000000     0.000000          0.0   \n",
       "25%       0.000000           0.000000      0.000000     0.000000          0.0   \n",
       "50%       0.000000           0.000000      0.000000     0.000000          0.0   \n",
       "75%       0.000000           0.000000      0.000000     0.000000          0.0   \n",
       "max       2.000000           1.000000      2.000000     2.000000          0.0   \n",
       "\n",
       "       fr_thiophene  fr_unbrch_alkane      fr_urea  \n",
       "count   2589.000000       2589.000000  2589.000000  \n",
       "mean       0.097335          0.058324     0.036694  \n",
       "std        0.307977          0.312165     0.192111  \n",
       "min        0.000000          0.000000     0.000000  \n",
       "25%        0.000000          0.000000     0.000000  \n",
       "50%        0.000000          0.000000     0.000000  \n",
       "75%        0.000000          0.000000     0.000000  \n",
       "max        3.000000          5.000000     2.000000  \n",
       "\n",
       "[8 rows x 209 columns]"
      ]
     },
     "execution_count": 7,
     "metadata": {},
     "output_type": "execute_result"
    }
   ],
   "source": [
    "training_data.describe()"
   ]
  },
  {
   "cell_type": "code",
   "execution_count": 8,
   "metadata": {},
   "outputs": [
    {
     "data": {
      "text/html": [
       "<div>\n",
       "<style scoped>\n",
       "    .dataframe tbody tr th:only-of-type {\n",
       "        vertical-align: middle;\n",
       "    }\n",
       "\n",
       "    .dataframe tbody tr th {\n",
       "        vertical-align: top;\n",
       "    }\n",
       "\n",
       "    .dataframe thead th {\n",
       "        text-align: right;\n",
       "    }\n",
       "</style>\n",
       "<table border=\"1\" class=\"dataframe\">\n",
       "  <thead>\n",
       "    <tr style=\"text-align: right;\">\n",
       "      <th></th>\n",
       "      <th>Inhibitor</th>\n",
       "      <th>MaxEStateIndex</th>\n",
       "      <th>MinEStateIndex</th>\n",
       "      <th>MaxAbsEStateIndex</th>\n",
       "      <th>MinAbsEStateIndex</th>\n",
       "      <th>qed</th>\n",
       "      <th>MolWt</th>\n",
       "      <th>HeavyAtomMolWt</th>\n",
       "      <th>ExactMolWt</th>\n",
       "      <th>NumValenceElectrons</th>\n",
       "      <th>...</th>\n",
       "      <th>fr_sulfide</th>\n",
       "      <th>fr_sulfonamd</th>\n",
       "      <th>fr_sulfone</th>\n",
       "      <th>fr_term_acetylene</th>\n",
       "      <th>fr_tetrazole</th>\n",
       "      <th>fr_thiazole</th>\n",
       "      <th>fr_thiocyan</th>\n",
       "      <th>fr_thiophene</th>\n",
       "      <th>fr_unbrch_alkane</th>\n",
       "      <th>fr_urea</th>\n",
       "    </tr>\n",
       "  </thead>\n",
       "  <tbody>\n",
       "    <tr>\n",
       "      <th>count</th>\n",
       "      <td>647.000000</td>\n",
       "      <td>647.000000</td>\n",
       "      <td>647.000000</td>\n",
       "      <td>647.000000</td>\n",
       "      <td>647.000000</td>\n",
       "      <td>647.000000</td>\n",
       "      <td>647.000000</td>\n",
       "      <td>647.000000</td>\n",
       "      <td>647.000000</td>\n",
       "      <td>647.000000</td>\n",
       "      <td>...</td>\n",
       "      <td>647.000000</td>\n",
       "      <td>647.000000</td>\n",
       "      <td>647.000000</td>\n",
       "      <td>647.000000</td>\n",
       "      <td>647.000000</td>\n",
       "      <td>647.000000</td>\n",
       "      <td>647.0</td>\n",
       "      <td>647.000000</td>\n",
       "      <td>647.000000</td>\n",
       "      <td>647.000000</td>\n",
       "    </tr>\n",
       "    <tr>\n",
       "      <th>mean</th>\n",
       "      <td>0.483771</td>\n",
       "      <td>11.482577</td>\n",
       "      <td>-0.852900</td>\n",
       "      <td>11.482577</td>\n",
       "      <td>0.187370</td>\n",
       "      <td>0.649579</td>\n",
       "      <td>351.174337</td>\n",
       "      <td>332.555159</td>\n",
       "      <td>350.770018</td>\n",
       "      <td>127.774343</td>\n",
       "      <td>...</td>\n",
       "      <td>0.143740</td>\n",
       "      <td>0.137558</td>\n",
       "      <td>0.020093</td>\n",
       "      <td>0.004637</td>\n",
       "      <td>0.018547</td>\n",
       "      <td>0.091190</td>\n",
       "      <td>0.0</td>\n",
       "      <td>0.091190</td>\n",
       "      <td>0.092736</td>\n",
       "      <td>0.037094</td>\n",
       "    </tr>\n",
       "    <tr>\n",
       "      <th>std</th>\n",
       "      <td>0.500123</td>\n",
       "      <td>2.469214</td>\n",
       "      <td>1.442624</td>\n",
       "      <td>2.469214</td>\n",
       "      <td>0.203390</td>\n",
       "      <td>0.162340</td>\n",
       "      <td>74.403412</td>\n",
       "      <td>70.396663</td>\n",
       "      <td>74.296879</td>\n",
       "      <td>27.659223</td>\n",
       "      <td>...</td>\n",
       "      <td>0.364084</td>\n",
       "      <td>0.382992</td>\n",
       "      <td>0.140426</td>\n",
       "      <td>0.067988</td>\n",
       "      <td>0.146039</td>\n",
       "      <td>0.293426</td>\n",
       "      <td>0.0</td>\n",
       "      <td>0.313819</td>\n",
       "      <td>0.482569</td>\n",
       "      <td>0.197154</td>\n",
       "    </tr>\n",
       "    <tr>\n",
       "      <th>min</th>\n",
       "      <td>0.000000</td>\n",
       "      <td>4.215115</td>\n",
       "      <td>-6.048641</td>\n",
       "      <td>4.215115</td>\n",
       "      <td>0.000621</td>\n",
       "      <td>0.140164</td>\n",
       "      <td>193.227000</td>\n",
       "      <td>184.157000</td>\n",
       "      <td>193.019749</td>\n",
       "      <td>66.000000</td>\n",
       "      <td>...</td>\n",
       "      <td>0.000000</td>\n",
       "      <td>0.000000</td>\n",
       "      <td>0.000000</td>\n",
       "      <td>0.000000</td>\n",
       "      <td>0.000000</td>\n",
       "      <td>0.000000</td>\n",
       "      <td>0.0</td>\n",
       "      <td>0.000000</td>\n",
       "      <td>0.000000</td>\n",
       "      <td>0.000000</td>\n",
       "    </tr>\n",
       "    <tr>\n",
       "      <th>25%</th>\n",
       "      <td>0.000000</td>\n",
       "      <td>11.691538</td>\n",
       "      <td>-0.757606</td>\n",
       "      <td>11.691538</td>\n",
       "      <td>0.051110</td>\n",
       "      <td>0.534723</td>\n",
       "      <td>292.264500</td>\n",
       "      <td>276.214000</td>\n",
       "      <td>291.608630</td>\n",
       "      <td>106.000000</td>\n",
       "      <td>...</td>\n",
       "      <td>0.000000</td>\n",
       "      <td>0.000000</td>\n",
       "      <td>0.000000</td>\n",
       "      <td>0.000000</td>\n",
       "      <td>0.000000</td>\n",
       "      <td>0.000000</td>\n",
       "      <td>0.0</td>\n",
       "      <td>0.000000</td>\n",
       "      <td>0.000000</td>\n",
       "      <td>0.000000</td>\n",
       "    </tr>\n",
       "    <tr>\n",
       "      <th>50%</th>\n",
       "      <td>0.000000</td>\n",
       "      <td>12.329691</td>\n",
       "      <td>-0.352966</td>\n",
       "      <td>12.329691</td>\n",
       "      <td>0.116505</td>\n",
       "      <td>0.672086</td>\n",
       "      <td>343.177000</td>\n",
       "      <td>324.280000</td>\n",
       "      <td>342.157957</td>\n",
       "      <td>126.000000</td>\n",
       "      <td>...</td>\n",
       "      <td>0.000000</td>\n",
       "      <td>0.000000</td>\n",
       "      <td>0.000000</td>\n",
       "      <td>0.000000</td>\n",
       "      <td>0.000000</td>\n",
       "      <td>0.000000</td>\n",
       "      <td>0.0</td>\n",
       "      <td>0.000000</td>\n",
       "      <td>0.000000</td>\n",
       "      <td>0.000000</td>\n",
       "    </tr>\n",
       "    <tr>\n",
       "      <th>75%</th>\n",
       "      <td>1.000000</td>\n",
       "      <td>12.826883</td>\n",
       "      <td>-0.103025</td>\n",
       "      <td>12.826883</td>\n",
       "      <td>0.230309</td>\n",
       "      <td>0.768822</td>\n",
       "      <td>404.469500</td>\n",
       "      <td>382.290000</td>\n",
       "      <td>404.117452</td>\n",
       "      <td>146.000000</td>\n",
       "      <td>...</td>\n",
       "      <td>0.000000</td>\n",
       "      <td>0.000000</td>\n",
       "      <td>0.000000</td>\n",
       "      <td>0.000000</td>\n",
       "      <td>0.000000</td>\n",
       "      <td>0.000000</td>\n",
       "      <td>0.0</td>\n",
       "      <td>0.000000</td>\n",
       "      <td>0.000000</td>\n",
       "      <td>0.000000</td>\n",
       "    </tr>\n",
       "    <tr>\n",
       "      <th>max</th>\n",
       "      <td>1.000000</td>\n",
       "      <td>14.843433</td>\n",
       "      <td>0.991829</td>\n",
       "      <td>14.843433</td>\n",
       "      <td>0.991829</td>\n",
       "      <td>0.942961</td>\n",
       "      <td>586.675000</td>\n",
       "      <td>559.907000</td>\n",
       "      <td>586.298927</td>\n",
       "      <td>234.000000</td>\n",
       "      <td>...</td>\n",
       "      <td>2.000000</td>\n",
       "      <td>2.000000</td>\n",
       "      <td>1.000000</td>\n",
       "      <td>1.000000</td>\n",
       "      <td>2.000000</td>\n",
       "      <td>2.000000</td>\n",
       "      <td>0.0</td>\n",
       "      <td>3.000000</td>\n",
       "      <td>6.000000</td>\n",
       "      <td>2.000000</td>\n",
       "    </tr>\n",
       "  </tbody>\n",
       "</table>\n",
       "<p>8 rows × 209 columns</p>\n",
       "</div>"
      ],
      "text/plain": [
       "        Inhibitor  MaxEStateIndex  MinEStateIndex  MaxAbsEStateIndex  \\\n",
       "count  647.000000      647.000000      647.000000         647.000000   \n",
       "mean     0.483771       11.482577       -0.852900          11.482577   \n",
       "std      0.500123        2.469214        1.442624           2.469214   \n",
       "min      0.000000        4.215115       -6.048641           4.215115   \n",
       "25%      0.000000       11.691538       -0.757606          11.691538   \n",
       "50%      0.000000       12.329691       -0.352966          12.329691   \n",
       "75%      1.000000       12.826883       -0.103025          12.826883   \n",
       "max      1.000000       14.843433        0.991829          14.843433   \n",
       "\n",
       "       MinAbsEStateIndex         qed       MolWt  HeavyAtomMolWt  ExactMolWt  \\\n",
       "count         647.000000  647.000000  647.000000      647.000000  647.000000   \n",
       "mean            0.187370    0.649579  351.174337      332.555159  350.770018   \n",
       "std             0.203390    0.162340   74.403412       70.396663   74.296879   \n",
       "min             0.000621    0.140164  193.227000      184.157000  193.019749   \n",
       "25%             0.051110    0.534723  292.264500      276.214000  291.608630   \n",
       "50%             0.116505    0.672086  343.177000      324.280000  342.157957   \n",
       "75%             0.230309    0.768822  404.469500      382.290000  404.117452   \n",
       "max             0.991829    0.942961  586.675000      559.907000  586.298927   \n",
       "\n",
       "       NumValenceElectrons  ...  fr_sulfide  fr_sulfonamd  fr_sulfone  \\\n",
       "count           647.000000  ...  647.000000    647.000000  647.000000   \n",
       "mean            127.774343  ...    0.143740      0.137558    0.020093   \n",
       "std              27.659223  ...    0.364084      0.382992    0.140426   \n",
       "min              66.000000  ...    0.000000      0.000000    0.000000   \n",
       "25%             106.000000  ...    0.000000      0.000000    0.000000   \n",
       "50%             126.000000  ...    0.000000      0.000000    0.000000   \n",
       "75%             146.000000  ...    0.000000      0.000000    0.000000   \n",
       "max             234.000000  ...    2.000000      2.000000    1.000000   \n",
       "\n",
       "       fr_term_acetylene  fr_tetrazole  fr_thiazole  fr_thiocyan  \\\n",
       "count         647.000000    647.000000   647.000000        647.0   \n",
       "mean            0.004637      0.018547     0.091190          0.0   \n",
       "std             0.067988      0.146039     0.293426          0.0   \n",
       "min             0.000000      0.000000     0.000000          0.0   \n",
       "25%             0.000000      0.000000     0.000000          0.0   \n",
       "50%             0.000000      0.000000     0.000000          0.0   \n",
       "75%             0.000000      0.000000     0.000000          0.0   \n",
       "max             1.000000      2.000000     2.000000          0.0   \n",
       "\n",
       "       fr_thiophene  fr_unbrch_alkane     fr_urea  \n",
       "count    647.000000        647.000000  647.000000  \n",
       "mean       0.091190          0.092736    0.037094  \n",
       "std        0.313819          0.482569    0.197154  \n",
       "min        0.000000          0.000000    0.000000  \n",
       "25%        0.000000          0.000000    0.000000  \n",
       "50%        0.000000          0.000000    0.000000  \n",
       "75%        0.000000          0.000000    0.000000  \n",
       "max        3.000000          6.000000    2.000000  \n",
       "\n",
       "[8 rows x 209 columns]"
      ]
     },
     "execution_count": 8,
     "metadata": {},
     "output_type": "execute_result"
    }
   ],
   "source": [
    "testing_data.describe()"
   ]
  },
  {
   "cell_type": "code",
   "execution_count": 9,
   "metadata": {},
   "outputs": [],
   "source": [
    "y_train = training_data[\"Inhibitor\"]\n",
    "\n",
    "y_test = testing_data[\"Inhibitor\"]"
   ]
  },
  {
   "cell_type": "code",
   "execution_count": 10,
   "metadata": {},
   "outputs": [
    {
     "name": "stdout",
     "output_type": "stream",
     "text": [
      "Shape of y_test is:  (647,)\n",
      "Some instances of y_test are:\n",
      " 0    0\n",
      "1    0\n",
      "2    0\n",
      "3    0\n",
      "4    1\n",
      "5    0\n",
      "6    1\n",
      "7    1\n",
      "8    0\n",
      "9    1\n",
      "Name: Inhibitor, dtype: int64\n"
     ]
    }
   ],
   "source": [
    "print(\"Shape of y_test is: \", y_test.shape)\n",
    "\n",
    "print(\"Some instances of y_test are:\\n\", y_test[0:10])"
   ]
  },
  {
   "cell_type": "code",
   "execution_count": 11,
   "metadata": {},
   "outputs": [
    {
     "name": "stdout",
     "output_type": "stream",
     "text": [
      "Number of positive instances in y_test are: 313\n",
      "Number of negative instances in y_test are: 334\n"
     ]
    }
   ],
   "source": [
    "print(\"Number of positive instances in y_test are:\", y_test[y_test == 1].shape[0])\n",
    "\n",
    "print(\"Number of negative instances in y_test are:\", y_test[y_test == 0].shape[0])"
   ]
  },
  {
   "cell_type": "code",
   "execution_count": 12,
   "metadata": {},
   "outputs": [
    {
     "name": "stdout",
     "output_type": "stream",
     "text": [
      "Shape of y_train is:  (2589,)\n",
      "Some instances of y_train are:\n",
      " 0    0\n",
      "1    1\n",
      "2    1\n",
      "3    1\n",
      "4    0\n",
      "5    0\n",
      "6    0\n",
      "7    0\n",
      "8    0\n",
      "9    0\n",
      "Name: Inhibitor, dtype: int64\n"
     ]
    }
   ],
   "source": [
    "print(\"Shape of y_train is: \", y_train.shape)\n",
    "\n",
    "print(\"Some instances of y_train are:\\n\", y_train[0:10])"
   ]
  },
  {
   "cell_type": "code",
   "execution_count": 13,
   "metadata": {},
   "outputs": [
    {
     "name": "stdout",
     "output_type": "stream",
     "text": [
      "Number of positive instances in y_train are: 1252\n",
      "Number of negative instances in y_train are: 1337\n"
     ]
    }
   ],
   "source": [
    "print(\"Number of positive instances in y_train are:\", y_train[y_train == 1].shape[0])\n",
    "\n",
    "print(\"Number of negative instances in y_train are:\", y_train[y_train == 0].shape[0])"
   ]
  },
  {
   "cell_type": "code",
   "execution_count": 14,
   "metadata": {},
   "outputs": [],
   "source": [
    "X_train = training_data.drop([\"Inhibitor\",\"SMILES\",\"fr_thiocyan\"], axis=1)\n",
    "\n",
    "X_test = testing_data.drop([\"Inhibitor\",\"SMILES\",\"fr_thiocyan\"], axis=1)"
   ]
  },
  {
   "cell_type": "code",
   "execution_count": 15,
   "metadata": {},
   "outputs": [],
   "source": [
    "#X_train.hist(figsize=(100,100))"
   ]
  },
  {
   "cell_type": "code",
   "execution_count": 16,
   "metadata": {},
   "outputs": [
    {
     "name": "stdout",
     "output_type": "stream",
     "text": [
      "Shape of X_train is:  (2589, 207)\n",
      "Shape of X_test is:  (647, 207)\n"
     ]
    }
   ],
   "source": [
    "print(\"Shape of X_train is: \", X_train.shape)\n",
    "print(\"Shape of X_test is: \", X_test.shape)"
   ]
  },
  {
   "cell_type": "code",
   "execution_count": 17,
   "metadata": {},
   "outputs": [
    {
     "name": "stdout",
     "output_type": "stream",
     "text": [
      "   MaxEStateIndex  MinEStateIndex  MaxAbsEStateIndex  MinAbsEStateIndex  \\\n",
      "0       12.394955       -3.404453          12.394955           0.189676   \n",
      "1       12.717250       -0.185649          12.717250           0.083439   \n",
      "\n",
      "        qed    MolWt  HeavyAtomMolWt  ExactMolWt  NumValenceElectrons  \\\n",
      "0  0.933439  336.438         320.310  336.060234                  116   \n",
      "1  0.614894  382.485         360.309  382.135114                  140   \n",
      "\n",
      "   NumRadicalElectrons  ...  fr_quatN  fr_sulfide  fr_sulfonamd  fr_sulfone  \\\n",
      "0                    0  ...         0           0             1           0   \n",
      "1                    0  ...         0           0             0           0   \n",
      "\n",
      "   fr_term_acetylene  fr_tetrazole  fr_thiazole  fr_thiophene  \\\n",
      "0                  0             0            0             1   \n",
      "1                  0             0            0             1   \n",
      "\n",
      "   fr_unbrch_alkane  fr_urea  \n",
      "0                 0        0  \n",
      "1                 0        0  \n",
      "\n",
      "[2 rows x 207 columns]\n"
     ]
    }
   ],
   "source": [
    "print(X_train.head(2))"
   ]
  },
  {
   "cell_type": "code",
   "execution_count": 18,
   "metadata": {},
   "outputs": [
    {
     "name": "stdout",
     "output_type": "stream",
     "text": [
      "   MaxEStateIndex  MinEStateIndex  MaxAbsEStateIndex  MinAbsEStateIndex  \\\n",
      "0       12.944986       -0.201685          12.944986           0.085428   \n",
      "1       12.242526       -0.107064          12.242526           0.107064   \n",
      "\n",
      "        qed    MolWt  HeavyAtomMolWt  ExactMolWt  NumValenceElectrons  \\\n",
      "0  0.432972  444.575         412.319  444.241293                  172   \n",
      "1  0.573778  353.403         338.283  353.083412                  126   \n",
      "\n",
      "   NumRadicalElectrons  ...  fr_quatN  fr_sulfide  fr_sulfonamd  fr_sulfone  \\\n",
      "0                    0  ...         0           0             0           0   \n",
      "1                    0  ...         0           1             0           0   \n",
      "\n",
      "   fr_term_acetylene  fr_tetrazole  fr_thiazole  fr_thiophene  \\\n",
      "0                  0             0            0             0   \n",
      "1                  0             0            0             0   \n",
      "\n",
      "   fr_unbrch_alkane  fr_urea  \n",
      "0                 0        0  \n",
      "1                 0        0  \n",
      "\n",
      "[2 rows x 207 columns]\n"
     ]
    }
   ],
   "source": [
    "print(X_test.head(2))"
   ]
  },
  {
   "cell_type": "markdown",
   "metadata": {},
   "source": [
    "$$\\textbf{Data Engineering}$$\n",
    "\n",
    "We normalize, standardize the data in this part."
   ]
  },
  {
   "cell_type": "markdown",
   "metadata": {},
   "source": [
    "<h3>Normalization</h3>\n",
    "\n",
    "The data becomes, \n",
    "$$X_{\\text{new}} = \\frac{X - X_{\\text{min}}}{X_{\\text{max}}-X_{\\text{min}}}$$"
   ]
  },
  {
   "cell_type": "code",
   "execution_count": 19,
   "metadata": {},
   "outputs": [],
   "source": [
    "scaler = MinMaxScaler()\n",
    "\n",
    "X_train = scaler.fit_transform(X_train)\n",
    "\n",
    "\n",
    "X_test = scaler.transform(X_test)"
   ]
  },
  {
   "cell_type": "markdown",
   "metadata": {},
   "source": [
    "<h3>Standardization</h3>\n",
    "\n",
    "The data becomes, $$X_{\\text{new}} = \\frac{X - \\mu}{\\sigma}$$\n",
    "\n",
    "where $\\mu$ is mean and $\\sigma$ is standard deviation."
   ]
  },
  {
   "cell_type": "code",
   "execution_count": 20,
   "metadata": {},
   "outputs": [],
   "source": [
    "scaler = StandardScaler()\n",
    "\n",
    "X_train = scaler.fit_transform(X_train)\n",
    "\n",
    "X_test = scaler.transform(X_test)"
   ]
  },
  {
   "cell_type": "markdown",
   "metadata": {},
   "source": [
    "<p>Now that we have calculated our normalized and standardized data, we can now find the correlation matrix of the features of the training data.</p>"
   ]
  },
  {
   "cell_type": "code",
   "execution_count": 21,
   "metadata": {},
   "outputs": [
    {
     "name": "stderr",
     "output_type": "stream",
     "text": [
      "C:\\Users\\jayad\\AppData\\Local\\Temp\\ipykernel_20452\\2764691630.py:1: FutureWarning: The default value of numeric_only in DataFrame.corr is deprecated. In a future version, it will default to False. Select only valid columns or specify the value of numeric_only to silence this warning.\n",
      "  correlationMatrix = training_data.corr()\n"
     ]
    }
   ],
   "source": [
    "correlationMatrix = training_data.corr()"
   ]
  },
  {
   "cell_type": "code",
   "execution_count": 22,
   "metadata": {},
   "outputs": [
    {
     "name": "stdout",
     "output_type": "stream",
     "text": [
      "                   Inhibitor  MaxEStateIndex  MinEStateIndex  \\\n",
      "Inhibitor           1.000000       -0.172075        0.115077   \n",
      "MaxEStateIndex     -0.172075        1.000000       -0.448502   \n",
      "MinEStateIndex      0.115077       -0.448502        1.000000   \n",
      "MaxAbsEStateIndex  -0.172075        1.000000       -0.448502   \n",
      "MinAbsEStateIndex   0.177898       -0.774488        0.346392   \n",
      "...                      ...             ...             ...   \n",
      "fr_thiazole         0.157223       -0.009944        0.001168   \n",
      "fr_thiocyan              NaN             NaN             NaN   \n",
      "fr_thiophene        0.045526       -0.037594        0.059502   \n",
      "fr_unbrch_alkane   -0.074346       -0.014491        0.010768   \n",
      "fr_urea            -0.056097        0.078763       -0.023191   \n",
      "\n",
      "                   MaxAbsEStateIndex  MinAbsEStateIndex       qed     MolWt  \\\n",
      "Inhibitor                  -0.172075           0.177898  0.042627 -0.131266   \n",
      "MaxEStateIndex              1.000000          -0.774488 -0.088241  0.410506   \n",
      "MinEStateIndex             -0.448502           0.346392  0.041474 -0.404169   \n",
      "MaxAbsEStateIndex           1.000000          -0.774488 -0.088241  0.410506   \n",
      "MinAbsEStateIndex          -0.774488           1.000000  0.078293 -0.321253   \n",
      "...                              ...                ...       ...       ...   \n",
      "fr_thiazole                -0.009944           0.029681  0.005925  0.030838   \n",
      "fr_thiocyan                      NaN                NaN       NaN       NaN   \n",
      "fr_thiophene               -0.037594           0.026885 -0.001094  0.017478   \n",
      "fr_unbrch_alkane           -0.014491           0.036135 -0.069070 -0.016632   \n",
      "fr_urea                     0.078763          -0.031420  0.102928 -0.015342   \n",
      "\n",
      "                   HeavyAtomMolWt  ExactMolWt  NumValenceElectrons  ...  \\\n",
      "Inhibitor               -0.120525   -0.131401            -0.154207  ...   \n",
      "MaxEStateIndex           0.410534    0.410851             0.419375  ...   \n",
      "MinEStateIndex          -0.416110   -0.404377            -0.370806  ...   \n",
      "MaxAbsEStateIndex        0.410534    0.410851             0.419375  ...   \n",
      "MinAbsEStateIndex       -0.322077   -0.321454            -0.325822  ...   \n",
      "...                           ...         ...                  ...  ...   \n",
      "fr_thiazole              0.042992    0.030744            -0.037335  ...   \n",
      "fr_thiocyan                   NaN         NaN                  NaN  ...   \n",
      "fr_thiophene             0.025037    0.017253            -0.050914  ...   \n",
      "fr_unbrch_alkane        -0.027800   -0.016541             0.006591  ...   \n",
      "fr_urea                 -0.019487   -0.015286             0.002760  ...   \n",
      "\n",
      "                   fr_sulfide  fr_sulfonamd  fr_sulfone  fr_term_acetylene  \\\n",
      "Inhibitor           -0.056536     -0.028013   -0.057280          -0.018387   \n",
      "MaxEStateIndex       0.013706      0.174831    0.063091          -0.007026   \n",
      "MinEStateIndex       0.100120     -0.668160   -0.229101          -0.015108   \n",
      "MaxAbsEStateIndex    0.013706      0.174831    0.063091          -0.007026   \n",
      "MinAbsEStateIndex   -0.029837     -0.141569   -0.060753           0.026095   \n",
      "...                       ...           ...         ...                ...   \n",
      "fr_thiazole         -0.039781      0.028450   -0.006413          -0.012607   \n",
      "fr_thiocyan               NaN           NaN         NaN                NaN   \n",
      "fr_thiophene        -0.030348     -0.020466   -0.006928           0.051441   \n",
      "fr_unbrch_alkane     0.025046      0.028719   -0.011897          -0.007351   \n",
      "fr_urea             -0.045343     -0.044826   -0.006268          -0.007515   \n",
      "\n",
      "                   fr_tetrazole  fr_thiazole  fr_thiocyan  fr_thiophene  \\\n",
      "Inhibitor             -0.075964     0.157223          NaN      0.045526   \n",
      "MaxEStateIndex        -0.034654    -0.009944          NaN     -0.037594   \n",
      "MinEStateIndex         0.050082     0.001168          NaN      0.059502   \n",
      "MaxAbsEStateIndex     -0.034654    -0.009944          NaN     -0.037594   \n",
      "MinAbsEStateIndex      0.020740     0.029681          NaN      0.026885   \n",
      "...                         ...          ...          ...           ...   \n",
      "fr_thiazole           -0.040316     1.000000          NaN      0.041962   \n",
      "fr_thiocyan                 NaN          NaN          NaN           NaN   \n",
      "fr_thiophene          -0.039766     0.041962          NaN      1.000000   \n",
      "fr_unbrch_alkane      -0.023508    -0.039103          NaN     -0.034957   \n",
      "fr_urea               -0.024033     0.006327          NaN     -0.040797   \n",
      "\n",
      "                   fr_unbrch_alkane   fr_urea  \n",
      "Inhibitor                 -0.074346 -0.056097  \n",
      "MaxEStateIndex            -0.014491  0.078763  \n",
      "MinEStateIndex             0.010768 -0.023191  \n",
      "MaxAbsEStateIndex         -0.014491  0.078763  \n",
      "MinAbsEStateIndex          0.036135 -0.031420  \n",
      "...                             ...       ...  \n",
      "fr_thiazole               -0.039103  0.006327  \n",
      "fr_thiocyan                     NaN       NaN  \n",
      "fr_thiophene              -0.034957 -0.040797  \n",
      "fr_unbrch_alkane           1.000000  0.041618  \n",
      "fr_urea                    0.041618  1.000000  \n",
      "\n",
      "[209 rows x 209 columns]\n"
     ]
    }
   ],
   "source": [
    "print(correlationMatrix)"
   ]
  },
  {
   "cell_type": "code",
   "execution_count": 23,
   "metadata": {},
   "outputs": [],
   "source": [
    "#sns.heatmap(correlationMatrix, annot=True)"
   ]
  },
  {
   "cell_type": "markdown",
   "metadata": {},
   "source": [
    "$$\\textbf{MODEL IMPLEMENTATIONS}$$\n",
    "\n",
    "We are implementing 4 models on the dataset. They are:\n",
    "\n",
    "1. Logistic Regression\n",
    "2. Naive-Bayes Classification\n",
    "3. Deep Neural Network\n",
    "4. Convolutional Neural Network"
   ]
  },
  {
   "cell_type": "markdown",
   "metadata": {},
   "source": [
    "## 1. LOGISTIC REGRESSION"
   ]
  },
  {
   "cell_type": "code",
   "execution_count": 24,
   "metadata": {},
   "outputs": [
    {
     "data": {
      "text/html": [
       "<style>#sk-container-id-1 {color: black;background-color: white;}#sk-container-id-1 pre{padding: 0;}#sk-container-id-1 div.sk-toggleable {background-color: white;}#sk-container-id-1 label.sk-toggleable__label {cursor: pointer;display: block;width: 100%;margin-bottom: 0;padding: 0.3em;box-sizing: border-box;text-align: center;}#sk-container-id-1 label.sk-toggleable__label-arrow:before {content: \"▸\";float: left;margin-right: 0.25em;color: #696969;}#sk-container-id-1 label.sk-toggleable__label-arrow:hover:before {color: black;}#sk-container-id-1 div.sk-estimator:hover label.sk-toggleable__label-arrow:before {color: black;}#sk-container-id-1 div.sk-toggleable__content {max-height: 0;max-width: 0;overflow: hidden;text-align: left;background-color: #f0f8ff;}#sk-container-id-1 div.sk-toggleable__content pre {margin: 0.2em;color: black;border-radius: 0.25em;background-color: #f0f8ff;}#sk-container-id-1 input.sk-toggleable__control:checked~div.sk-toggleable__content {max-height: 200px;max-width: 100%;overflow: auto;}#sk-container-id-1 input.sk-toggleable__control:checked~label.sk-toggleable__label-arrow:before {content: \"▾\";}#sk-container-id-1 div.sk-estimator input.sk-toggleable__control:checked~label.sk-toggleable__label {background-color: #d4ebff;}#sk-container-id-1 div.sk-label input.sk-toggleable__control:checked~label.sk-toggleable__label {background-color: #d4ebff;}#sk-container-id-1 input.sk-hidden--visually {border: 0;clip: rect(1px 1px 1px 1px);clip: rect(1px, 1px, 1px, 1px);height: 1px;margin: -1px;overflow: hidden;padding: 0;position: absolute;width: 1px;}#sk-container-id-1 div.sk-estimator {font-family: monospace;background-color: #f0f8ff;border: 1px dotted black;border-radius: 0.25em;box-sizing: border-box;margin-bottom: 0.5em;}#sk-container-id-1 div.sk-estimator:hover {background-color: #d4ebff;}#sk-container-id-1 div.sk-parallel-item::after {content: \"\";width: 100%;border-bottom: 1px solid gray;flex-grow: 1;}#sk-container-id-1 div.sk-label:hover label.sk-toggleable__label {background-color: #d4ebff;}#sk-container-id-1 div.sk-serial::before {content: \"\";position: absolute;border-left: 1px solid gray;box-sizing: border-box;top: 0;bottom: 0;left: 50%;z-index: 0;}#sk-container-id-1 div.sk-serial {display: flex;flex-direction: column;align-items: center;background-color: white;padding-right: 0.2em;padding-left: 0.2em;position: relative;}#sk-container-id-1 div.sk-item {position: relative;z-index: 1;}#sk-container-id-1 div.sk-parallel {display: flex;align-items: stretch;justify-content: center;background-color: white;position: relative;}#sk-container-id-1 div.sk-item::before, #sk-container-id-1 div.sk-parallel-item::before {content: \"\";position: absolute;border-left: 1px solid gray;box-sizing: border-box;top: 0;bottom: 0;left: 50%;z-index: -1;}#sk-container-id-1 div.sk-parallel-item {display: flex;flex-direction: column;z-index: 1;position: relative;background-color: white;}#sk-container-id-1 div.sk-parallel-item:first-child::after {align-self: flex-end;width: 50%;}#sk-container-id-1 div.sk-parallel-item:last-child::after {align-self: flex-start;width: 50%;}#sk-container-id-1 div.sk-parallel-item:only-child::after {width: 0;}#sk-container-id-1 div.sk-dashed-wrapped {border: 1px dashed gray;margin: 0 0.4em 0.5em 0.4em;box-sizing: border-box;padding-bottom: 0.4em;background-color: white;}#sk-container-id-1 div.sk-label label {font-family: monospace;font-weight: bold;display: inline-block;line-height: 1.2em;}#sk-container-id-1 div.sk-label-container {text-align: center;}#sk-container-id-1 div.sk-container {/* jupyter's `normalize.less` sets `[hidden] { display: none; }` but bootstrap.min.css set `[hidden] { display: none !important; }` so we also need the `!important` here to be able to override the default hidden behavior on the sphinx rendered scikit-learn.org. See: https://github.com/scikit-learn/scikit-learn/issues/21755 */display: inline-block !important;position: relative;}#sk-container-id-1 div.sk-text-repr-fallback {display: none;}</style><div id=\"sk-container-id-1\" class=\"sk-top-container\"><div class=\"sk-text-repr-fallback\"><pre>LogisticRegression(max_iter=4000)</pre><b>In a Jupyter environment, please rerun this cell to show the HTML representation or trust the notebook. <br />On GitHub, the HTML representation is unable to render, please try loading this page with nbviewer.org.</b></div><div class=\"sk-container\" hidden><div class=\"sk-item\"><div class=\"sk-estimator sk-toggleable\"><input class=\"sk-toggleable__control sk-hidden--visually\" id=\"sk-estimator-id-1\" type=\"checkbox\" checked><label for=\"sk-estimator-id-1\" class=\"sk-toggleable__label sk-toggleable__label-arrow\">LogisticRegression</label><div class=\"sk-toggleable__content\"><pre>LogisticRegression(max_iter=4000)</pre></div></div></div></div></div>"
      ],
      "text/plain": [
       "LogisticRegression(max_iter=4000)"
      ]
     },
     "execution_count": 24,
     "metadata": {},
     "output_type": "execute_result"
    }
   ],
   "source": [
    "logistic = LogisticRegression(penalty=\"l2\", C=1.0, solver=\"lbfgs\", max_iter=4000) \n",
    "\n",
    "logistic.fit(X_train, y_train)"
   ]
  },
  {
   "cell_type": "code",
   "execution_count": 25,
   "metadata": {},
   "outputs": [
    {
     "name": "stdout",
     "output_type": "stream",
     "text": [
      "[1 1 1 0 1 0 1 0 0 0]\n"
     ]
    }
   ],
   "source": [
    "predictions = logistic.predict(X_test)\n",
    "\n",
    "print(predictions[0:10])"
   ]
  },
  {
   "cell_type": "code",
   "execution_count": 26,
   "metadata": {},
   "outputs": [
    {
     "name": "stdout",
     "output_type": "stream",
     "text": [
      "Accuracy of Logistic Regression is:  0.740340030911901\n"
     ]
    }
   ],
   "source": [
    "accuracy = metrics.accuracy_score(y_test, predictions)\n",
    "\n",
    "print(\"Accuracy of Logistic Regression is: \", accuracy)"
   ]
  },
  {
   "cell_type": "code",
   "execution_count": 27,
   "metadata": {},
   "outputs": [
    {
     "name": "stdout",
     "output_type": "stream",
     "text": [
      "Precision of Logistic Regression is:  0.7331189710610932\n"
     ]
    }
   ],
   "source": [
    "precision = metrics.precision_score(y_test, predictions)\n",
    "\n",
    "print(\"Precision of Logistic Regression is: \", precision)"
   ]
  },
  {
   "cell_type": "code",
   "execution_count": 28,
   "metadata": {},
   "outputs": [
    {
     "name": "stdout",
     "output_type": "stream",
     "text": [
      "Recall of Logistic Regression is:  0.7284345047923323\n"
     ]
    }
   ],
   "source": [
    "recall = metrics.recall_score(y_test, predictions)\n",
    "\n",
    "print(\"Recall of Logistic Regression is: \", recall)"
   ]
  },
  {
   "cell_type": "code",
   "execution_count": 29,
   "metadata": {},
   "outputs": [
    {
     "name": "stdout",
     "output_type": "stream",
     "text": [
      "AUC score of Logistic Regression is:  0.7399657553901782\n"
     ]
    }
   ],
   "source": [
    "auc_score = metrics.roc_auc_score(y_test, predictions)\n",
    "\n",
    "print(\"AUC score of Logistic Regression is: \", auc_score)"
   ]
  },
  {
   "cell_type": "markdown",
   "metadata": {},
   "source": [
    "## 2. Naive-Bayes Classifier\n",
    "\n",
    "(Should fix, there is some error I guess)"
   ]
  },
  {
   "cell_type": "code",
   "execution_count": 30,
   "metadata": {},
   "outputs": [
    {
     "data": {
      "text/html": [
       "<style>#sk-container-id-2 {color: black;background-color: white;}#sk-container-id-2 pre{padding: 0;}#sk-container-id-2 div.sk-toggleable {background-color: white;}#sk-container-id-2 label.sk-toggleable__label {cursor: pointer;display: block;width: 100%;margin-bottom: 0;padding: 0.3em;box-sizing: border-box;text-align: center;}#sk-container-id-2 label.sk-toggleable__label-arrow:before {content: \"▸\";float: left;margin-right: 0.25em;color: #696969;}#sk-container-id-2 label.sk-toggleable__label-arrow:hover:before {color: black;}#sk-container-id-2 div.sk-estimator:hover label.sk-toggleable__label-arrow:before {color: black;}#sk-container-id-2 div.sk-toggleable__content {max-height: 0;max-width: 0;overflow: hidden;text-align: left;background-color: #f0f8ff;}#sk-container-id-2 div.sk-toggleable__content pre {margin: 0.2em;color: black;border-radius: 0.25em;background-color: #f0f8ff;}#sk-container-id-2 input.sk-toggleable__control:checked~div.sk-toggleable__content {max-height: 200px;max-width: 100%;overflow: auto;}#sk-container-id-2 input.sk-toggleable__control:checked~label.sk-toggleable__label-arrow:before {content: \"▾\";}#sk-container-id-2 div.sk-estimator input.sk-toggleable__control:checked~label.sk-toggleable__label {background-color: #d4ebff;}#sk-container-id-2 div.sk-label input.sk-toggleable__control:checked~label.sk-toggleable__label {background-color: #d4ebff;}#sk-container-id-2 input.sk-hidden--visually {border: 0;clip: rect(1px 1px 1px 1px);clip: rect(1px, 1px, 1px, 1px);height: 1px;margin: -1px;overflow: hidden;padding: 0;position: absolute;width: 1px;}#sk-container-id-2 div.sk-estimator {font-family: monospace;background-color: #f0f8ff;border: 1px dotted black;border-radius: 0.25em;box-sizing: border-box;margin-bottom: 0.5em;}#sk-container-id-2 div.sk-estimator:hover {background-color: #d4ebff;}#sk-container-id-2 div.sk-parallel-item::after {content: \"\";width: 100%;border-bottom: 1px solid gray;flex-grow: 1;}#sk-container-id-2 div.sk-label:hover label.sk-toggleable__label {background-color: #d4ebff;}#sk-container-id-2 div.sk-serial::before {content: \"\";position: absolute;border-left: 1px solid gray;box-sizing: border-box;top: 0;bottom: 0;left: 50%;z-index: 0;}#sk-container-id-2 div.sk-serial {display: flex;flex-direction: column;align-items: center;background-color: white;padding-right: 0.2em;padding-left: 0.2em;position: relative;}#sk-container-id-2 div.sk-item {position: relative;z-index: 1;}#sk-container-id-2 div.sk-parallel {display: flex;align-items: stretch;justify-content: center;background-color: white;position: relative;}#sk-container-id-2 div.sk-item::before, #sk-container-id-2 div.sk-parallel-item::before {content: \"\";position: absolute;border-left: 1px solid gray;box-sizing: border-box;top: 0;bottom: 0;left: 50%;z-index: -1;}#sk-container-id-2 div.sk-parallel-item {display: flex;flex-direction: column;z-index: 1;position: relative;background-color: white;}#sk-container-id-2 div.sk-parallel-item:first-child::after {align-self: flex-end;width: 50%;}#sk-container-id-2 div.sk-parallel-item:last-child::after {align-self: flex-start;width: 50%;}#sk-container-id-2 div.sk-parallel-item:only-child::after {width: 0;}#sk-container-id-2 div.sk-dashed-wrapped {border: 1px dashed gray;margin: 0 0.4em 0.5em 0.4em;box-sizing: border-box;padding-bottom: 0.4em;background-color: white;}#sk-container-id-2 div.sk-label label {font-family: monospace;font-weight: bold;display: inline-block;line-height: 1.2em;}#sk-container-id-2 div.sk-label-container {text-align: center;}#sk-container-id-2 div.sk-container {/* jupyter's `normalize.less` sets `[hidden] { display: none; }` but bootstrap.min.css set `[hidden] { display: none !important; }` so we also need the `!important` here to be able to override the default hidden behavior on the sphinx rendered scikit-learn.org. See: https://github.com/scikit-learn/scikit-learn/issues/21755 */display: inline-block !important;position: relative;}#sk-container-id-2 div.sk-text-repr-fallback {display: none;}</style><div id=\"sk-container-id-2\" class=\"sk-top-container\"><div class=\"sk-text-repr-fallback\"><pre>GaussianNB()</pre><b>In a Jupyter environment, please rerun this cell to show the HTML representation or trust the notebook. <br />On GitHub, the HTML representation is unable to render, please try loading this page with nbviewer.org.</b></div><div class=\"sk-container\" hidden><div class=\"sk-item\"><div class=\"sk-estimator sk-toggleable\"><input class=\"sk-toggleable__control sk-hidden--visually\" id=\"sk-estimator-id-2\" type=\"checkbox\" checked><label for=\"sk-estimator-id-2\" class=\"sk-toggleable__label sk-toggleable__label-arrow\">GaussianNB</label><div class=\"sk-toggleable__content\"><pre>GaussianNB()</pre></div></div></div></div></div>"
      ],
      "text/plain": [
       "GaussianNB()"
      ]
     },
     "execution_count": 30,
     "metadata": {},
     "output_type": "execute_result"
    }
   ],
   "source": [
    "gaussian = GaussianNB()\n",
    "\n",
    "gaussian.fit(X_train, y_train)"
   ]
  },
  {
   "cell_type": "code",
   "execution_count": 31,
   "metadata": {},
   "outputs": [],
   "source": [
    "predictions = gaussian.predict(X_test)"
   ]
  },
  {
   "cell_type": "code",
   "execution_count": 32,
   "metadata": {},
   "outputs": [
    {
     "name": "stdout",
     "output_type": "stream",
     "text": [
      "[1 1 1 1 1 1 1 1 1 1]\n"
     ]
    }
   ],
   "source": [
    "print(predictions[0:10])"
   ]
  },
  {
   "cell_type": "code",
   "execution_count": 33,
   "metadata": {},
   "outputs": [
    {
     "name": "stdout",
     "output_type": "stream",
     "text": [
      "Accuracy of Naive Bayes is:  0.517774343122102\n"
     ]
    }
   ],
   "source": [
    "accuracy = metrics.accuracy_score(y_test, predictions)\n",
    "\n",
    "print(\"Accuracy of Naive Bayes is: \", accuracy)"
   ]
  },
  {
   "cell_type": "code",
   "execution_count": 34,
   "metadata": {},
   "outputs": [
    {
     "name": "stdout",
     "output_type": "stream",
     "text": [
      "Precision of Naive Bayes is:  0.5008183306055647\n"
     ]
    }
   ],
   "source": [
    "precision = metrics.precision_score(y_test, predictions)\n",
    "\n",
    "print(\"Precision of Naive Bayes is: \", precision)"
   ]
  },
  {
   "cell_type": "code",
   "execution_count": 35,
   "metadata": {},
   "outputs": [
    {
     "name": "stdout",
     "output_type": "stream",
     "text": [
      "Recall of Naive Bayes is:  0.9776357827476039\n"
     ]
    }
   ],
   "source": [
    "recall = metrics.recall_score(y_test, predictions)\n",
    "\n",
    "print(\"Recall of Naive Bayes is: \", recall)"
   ]
  },
  {
   "cell_type": "code",
   "execution_count": 36,
   "metadata": {},
   "outputs": [
    {
     "name": "stdout",
     "output_type": "stream",
     "text": [
      "AUC score of Naive Bayes is:  0.5322310650264965\n"
     ]
    }
   ],
   "source": [
    "auc_score = metrics.roc_auc_score(y_test, predictions)\n",
    "\n",
    "print(\"AUC score of Naive Bayes is: \", auc_score)"
   ]
  },
  {
   "cell_type": "markdown",
   "metadata": {},
   "source": [
    "## 3. Deep Neural Network\n",
    "\n",
    "(Try different architectures of NN later to increase accuracy)"
   ]
  },
  {
   "cell_type": "code",
   "execution_count": 37,
   "metadata": {},
   "outputs": [
    {
     "name": "stdout",
     "output_type": "stream",
     "text": [
      "Shape of neuralTrainX is:  (2071, 207)\n",
      "Shape of neuralTrainY is:  (2071,)\n",
      "Shape of neuralValX is:  (518, 207)\n",
      "Shape of neuralValY is:  (518,)\n"
     ]
    }
   ],
   "source": [
    "# Here we split the training data into training and validation data\n",
    "\n",
    "neuralTrainX, neuralValX, neuralTrainY, neuralValY = train_test_split(X_train, y_train, test_size=0.2, random_state=42) \n",
    "\n",
    "print(\"Shape of neuralTrainX is: \", neuralTrainX.shape)\n",
    "print(\"Shape of neuralTrainY is: \", neuralTrainY.shape)\n",
    "print(\"Shape of neuralValX is: \", neuralValX.shape)\n",
    "print(\"Shape of neuralValY is: \", neuralValY.shape)"
   ]
  },
  {
   "cell_type": "code",
   "execution_count": 38,
   "metadata": {},
   "outputs": [],
   "source": [
    "neuralNetwork = Sequential()\n",
    "neuralNetwork.add(Dense(64, activation=\"relu\", input_shape=(neuralTrainX.shape[1],)))\n",
    "neuralNetwork.add(Dropout(0.2))\n",
    "neuralNetwork.add(Dense(32, activation=\"relu\"))\n",
    "neuralNetwork.add(Dropout(0.2))\n",
    "neuralNetwork.add(Dense(1, activation=\"sigmoid\"))"
   ]
  },
  {
   "cell_type": "code",
   "execution_count": 39,
   "metadata": {},
   "outputs": [],
   "source": [
    "neuralNetwork.compile(optimizer=\"adam\", loss=\"binary_crossentropy\", metrics=[\"accuracy\"])"
   ]
  },
  {
   "cell_type": "code",
   "execution_count": 40,
   "metadata": {},
   "outputs": [],
   "source": [
    "early_stop = EarlyStopping(monitor='val_loss', patience=10)"
   ]
  },
  {
   "cell_type": "code",
   "execution_count": 41,
   "metadata": {},
   "outputs": [
    {
     "name": "stdout",
     "output_type": "stream",
     "text": [
      "Epoch 1/100\n",
      "65/65 [==============================] - 1s 4ms/step - loss: 0.6727 - accuracy: 0.6156 - val_loss: 0.5760 - val_accuracy: 0.7143\n",
      "Epoch 2/100\n",
      "65/65 [==============================] - 0s 2ms/step - loss: 0.5900 - accuracy: 0.6852 - val_loss: 0.5606 - val_accuracy: 0.7375\n",
      "Epoch 3/100\n",
      "65/65 [==============================] - 0s 2ms/step - loss: 0.5468 - accuracy: 0.7325 - val_loss: 0.5532 - val_accuracy: 0.7317\n",
      "Epoch 4/100\n",
      "65/65 [==============================] - 0s 2ms/step - loss: 0.5334 - accuracy: 0.7267 - val_loss: 0.5428 - val_accuracy: 0.7297\n",
      "Epoch 5/100\n",
      "65/65 [==============================] - 0s 2ms/step - loss: 0.4964 - accuracy: 0.7566 - val_loss: 0.5393 - val_accuracy: 0.7336\n",
      "Epoch 6/100\n",
      "65/65 [==============================] - 0s 2ms/step - loss: 0.4863 - accuracy: 0.7760 - val_loss: 0.5367 - val_accuracy: 0.7259\n",
      "Epoch 7/100\n",
      "65/65 [==============================] - 0s 2ms/step - loss: 0.4632 - accuracy: 0.7842 - val_loss: 0.5388 - val_accuracy: 0.7317\n",
      "Epoch 8/100\n",
      "65/65 [==============================] - 0s 2ms/step - loss: 0.4487 - accuracy: 0.7851 - val_loss: 0.5379 - val_accuracy: 0.7317\n",
      "Epoch 9/100\n",
      "65/65 [==============================] - 0s 2ms/step - loss: 0.4491 - accuracy: 0.7846 - val_loss: 0.5468 - val_accuracy: 0.7162\n",
      "Epoch 10/100\n",
      "65/65 [==============================] - 0s 2ms/step - loss: 0.4248 - accuracy: 0.8040 - val_loss: 0.5468 - val_accuracy: 0.7027\n",
      "Epoch 11/100\n",
      "65/65 [==============================] - 0s 2ms/step - loss: 0.4085 - accuracy: 0.8184 - val_loss: 0.5540 - val_accuracy: 0.7201\n",
      "Epoch 12/100\n",
      "65/65 [==============================] - 0s 2ms/step - loss: 0.3980 - accuracy: 0.8199 - val_loss: 0.5542 - val_accuracy: 0.7239\n",
      "Epoch 13/100\n",
      "65/65 [==============================] - 0s 2ms/step - loss: 0.4032 - accuracy: 0.8199 - val_loss: 0.5599 - val_accuracy: 0.7220\n",
      "Epoch 14/100\n",
      "65/65 [==============================] - 0s 2ms/step - loss: 0.3868 - accuracy: 0.8315 - val_loss: 0.5673 - val_accuracy: 0.7162\n",
      "Epoch 15/100\n",
      "65/65 [==============================] - 0s 2ms/step - loss: 0.3772 - accuracy: 0.8291 - val_loss: 0.5793 - val_accuracy: 0.7085\n",
      "Epoch 16/100\n",
      "65/65 [==============================] - 0s 2ms/step - loss: 0.3558 - accuracy: 0.8469 - val_loss: 0.5837 - val_accuracy: 0.7259\n"
     ]
    }
   ],
   "source": [
    "history = neuralNetwork.fit(neuralTrainX, neuralTrainY, \n",
    "                            epochs=100, \n",
    "                            batch_size=32, \n",
    "                            validation_data=(neuralValX, neuralValY), \n",
    "                            callbacks=[early_stop])"
   ]
  },
  {
   "cell_type": "code",
   "execution_count": 42,
   "metadata": {},
   "outputs": [
    {
     "name": "stdout",
     "output_type": "stream",
     "text": [
      "21/21 [==============================] - 0s 736us/step\n",
      "[1, 0, 0, 0, 1, 1, 1, 0, 1, 1]\n"
     ]
    }
   ],
   "source": [
    "predictionsNN = neuralNetwork.predict(X_test).flatten()\n",
    "predictions = []\n",
    "for i in predictionsNN:\n",
    "    if i >= 0.5:\n",
    "        predictions.append(1)\n",
    "    else:\n",
    "        predictions.append(0)\n",
    "\n",
    "print(predictions[0:10])"
   ]
  },
  {
   "cell_type": "code",
   "execution_count": 43,
   "metadata": {},
   "outputs": [
    {
     "name": "stdout",
     "output_type": "stream",
     "text": [
      "Accuracy of Neural Network is:  0.7511591962905718\n"
     ]
    }
   ],
   "source": [
    "accuracy = metrics.accuracy_score(y_test, predictions)\n",
    "\n",
    "print(\"Accuracy of Neural Network is: \", accuracy)"
   ]
  },
  {
   "cell_type": "code",
   "execution_count": 44,
   "metadata": {},
   "outputs": [
    {
     "name": "stdout",
     "output_type": "stream",
     "text": [
      "Precision of Neural Network is:  0.7389937106918238\n"
     ]
    }
   ],
   "source": [
    "precision = metrics.precision_score(y_test, predictions)\n",
    "\n",
    "print(\"Precision of Neural Network is: \", precision)"
   ]
  },
  {
   "cell_type": "code",
   "execution_count": 45,
   "metadata": {},
   "outputs": [
    {
     "name": "stdout",
     "output_type": "stream",
     "text": [
      "Recall of Neural Network is:  0.7507987220447284\n"
     ]
    }
   ],
   "source": [
    "recall = metrics.recall_score(y_test, predictions)\n",
    "\n",
    "print(\"Recall of Neural Network is: \", recall)"
   ]
  },
  {
   "cell_type": "code",
   "execution_count": 46,
   "metadata": {},
   "outputs": [
    {
     "name": "stdout",
     "output_type": "stream",
     "text": [
      "F1 score of Neural Network is:  0.744849445324881\n"
     ]
    }
   ],
   "source": [
    "f1_score = metrics.f1_score(y_test, predictions)\n",
    "\n",
    "print(\"F1 score of Neural Network is: \", f1_score)"
   ]
  },
  {
   "cell_type": "code",
   "execution_count": 47,
   "metadata": {},
   "outputs": [
    {
     "name": "stdout",
     "output_type": "stream",
     "text": [
      "AUC score of Neural Network is:  0.7511478640163762\n"
     ]
    }
   ],
   "source": [
    "auc_score = metrics.roc_auc_score(y_test, predictions)\n",
    "\n",
    "print(\"AUC score of Neural Network is: \", auc_score)"
   ]
  },
  {
   "cell_type": "code",
   "execution_count": 48,
   "metadata": {},
   "outputs": [
    {
     "data": {
      "image/png": "[encoded data removed]",
      "text/plain": [
       "<Figure size 640x480 with 2 Axes>"
      ]
     },
     "metadata": {},
     "output_type": "display_data"
    }
   ],
   "source": [
    "cm = metrics.confusion_matrix(y_test, predictions)\n",
    "\n",
    "sns.heatmap(cm, annot=True, cmap=\"Blues\", fmt=\"d\", annot_kws={\"color\": \"black\"})\n",
    "plt.title('Confusion matrix')\n",
    "plt.xlabel('Predicted label')\n",
    "plt.ylabel('True label')\n",
    "plt.show()"
   ]
  },
  {
   "cell_type": "code",
   "execution_count": 49,
   "metadata": {},
   "outputs": [],
   "source": [
    "neuralNetwork.save(\"neuralNetwork.h5\")"
   ]
  }
 ],
 "metadata": {
  "kernelspec": {
   "display_name": "Python 3",
   "language": "python",
   "name": "python3"
  },
  "language_info": {
   "codemirror_mode": {
    "name": "ipython",
    "version": 3
   },
   "file_extension": ".py",
   "mimetype": "text/x-python",
   "name": "python",
   "nbconvert_exporter": "python",
   "pygments_lexer": "ipython3",
   "version": "3.9.13"
  }
 },
 "nbformat": 4,
 "nbformat_minor": 2
}
